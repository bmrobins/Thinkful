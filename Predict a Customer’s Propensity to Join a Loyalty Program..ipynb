{
 "cells": [
  {
   "cell_type": "code",
   "execution_count": 219,
   "metadata": {},
   "outputs": [],
   "source": [
    "# Import Libraries\n",
    "import numpy as np \n",
    "import pandas as pd \n",
    "import seaborn as sns\n",
    "import sklearn \n",
    "import scipy\n",
    "import matplotlib.pyplot as plt\n",
    "import xgboost as xgb\n",
    "%matplotlib inline\n",
    "\n",
    "#Classifier Libraries\n",
    "from sklearn.naive_bayes import BernoulliNB\n",
    "from sklearn.naive_bayes import MultinomialNB\n",
    "from sklearn.naive_bayes import GaussianNB\n",
    "from sklearn.linear_model import LogisticRegression\n",
    "from sklearn.linear_model import RidgeClassifier\n",
    "from sklearn.neighbors import KNeighborsClassifier\n",
    "from sklearn.tree import DecisionTreeClassifier\n",
    "from sklearn.svm import SVC\n",
    "from sklearn.ensemble import RandomForestClassifier, GradientBoostingClassifier, VotingClassifier\n",
    "\n",
    "#SKLearn Libraries\n",
    "from scipy.stats import mstats\n",
    "from imblearn.over_sampling import SMOTE \n",
    "from sklearn import preprocessing\n",
    "from sklearn.model_selection import train_test_split\n",
    "from sklearn.metrics import confusion_matrix\n",
    "from sklearn.metrics import classification_report\n",
    "\n",
    "# Other Libraries\n",
    "import warnings\n",
    "warnings.filterwarnings(\"ignore\")"
   ]
  },
  {
   "cell_type": "markdown",
   "metadata": {},
   "source": [
    "# Workflow Summary\n",
    "#### Objective \n",
    "* The primary objective of the loyalty model is to predict a customer’s propensity to join a loyalty program. \n",
    "* As such, I built a binary classification model with two possible outcomes: Loyalty or Non-loyalty customers.\n",
    "\n",
    "#### Data Cleaning/Visualization\n",
    "* First, I explored the data set to understand its features and conducted data cleaning to convert object features to categorical ones.  \n",
    "* Next, I performed data visualization to compare numerical features to the Loyalty outcome variable. I also, investigated interaction effects between the gender feature and other numerical features. \n",
    "\n",
    "#### Feature Engineering/Model Prep\n",
    "* The next step was to perform featuring engineering where I was able to (1) encode categorical features (2) investigate feature correlations and (3) scale all numerical features. \n",
    "* After this, I began to prep the dataset for modeling. Here, I noticed that the outcome variable was greatly overbalanced with 83% Non-loyalty customers. To fix this, I oversampled the minority class (Loyalty customers) to obtained a balanced y label.\n",
    "\n",
    "#### Build Models\n",
    "* With the dataset ready for modeling, I used logistic regression to obtain a baseline model performance, which resulted in 79.7% accuracy score on the test dataset. \n",
    "* Next, I ran six other classifier models, with the Random Forest classifier performing the best with a score of 89.2%. \n",
    "* Lastly, I utilized a voting classifier Ensemble model obtaining a accuracy score of 87.8% My next step was to evaluate the Random Forest and the Ensemble models. \n",
    "\n",
    "#### Model Evaluation\n",
    "* I plotted the confusion matrix for each, along with printing the classification report. The Random Forest model seemed to perform more consistently across classes, whereas the Ensemble model displayed larger discrepancies in Type I and II error (confusion matrix) and recall scores (classification report). \n",
    "* Upon performing cross validation on both models, I realized that neither model was overfitting, and that the Ensemble model had a slightly higher accuracy score across folds compared to the Random Forest model. \n",
    "\n",
    "#### Optimize Winning Model\n",
    "* Nonetheless, I chose the Random Forest model as the winning model given that it performed more consistently across classes. \n",
    "* In the last step of my analysis, I optimized the Random Forest model using grid search, improving model accuracy to 90%."
   ]
  },
  {
   "cell_type": "markdown",
   "metadata": {},
   "source": [
    "# Data Exploration"
   ]
  },
  {
   "cell_type": "code",
   "execution_count": 196,
   "metadata": {},
   "outputs": [
    {
     "data": {
      "text/html": [
       "<div>\n",
       "<style scoped>\n",
       "    .dataframe tbody tr th:only-of-type {\n",
       "        vertical-align: middle;\n",
       "    }\n",
       "\n",
       "    .dataframe tbody tr th {\n",
       "        vertical-align: top;\n",
       "    }\n",
       "\n",
       "    .dataframe thead th {\n",
       "        text-align: right;\n",
       "    }\n",
       "</style>\n",
       "<table border=\"1\" class=\"dataframe\">\n",
       "  <thead>\n",
       "    <tr style=\"text-align: right;\">\n",
       "      <th></th>\n",
       "      <th>Unnamed: 0</th>\n",
       "      <th>purch_amt</th>\n",
       "      <th>gender</th>\n",
       "      <th>card_on_file</th>\n",
       "      <th>age</th>\n",
       "      <th>days_since_last_purch</th>\n",
       "      <th>loyalty</th>\n",
       "    </tr>\n",
       "  </thead>\n",
       "  <tbody>\n",
       "    <tr>\n",
       "      <th>0</th>\n",
       "      <td>0</td>\n",
       "      <td>19.58</td>\n",
       "      <td>male</td>\n",
       "      <td>no</td>\n",
       "      <td>31.0</td>\n",
       "      <td>35.0</td>\n",
       "      <td>False</td>\n",
       "    </tr>\n",
       "    <tr>\n",
       "      <th>1</th>\n",
       "      <td>1</td>\n",
       "      <td>65.16</td>\n",
       "      <td>male</td>\n",
       "      <td>yes</td>\n",
       "      <td>23.0</td>\n",
       "      <td>61.0</td>\n",
       "      <td>False</td>\n",
       "    </tr>\n",
       "    <tr>\n",
       "      <th>2</th>\n",
       "      <td>2</td>\n",
       "      <td>40.60</td>\n",
       "      <td>female</td>\n",
       "      <td>no</td>\n",
       "      <td>36.0</td>\n",
       "      <td>49.0</td>\n",
       "      <td>False</td>\n",
       "    </tr>\n",
       "    <tr>\n",
       "      <th>3</th>\n",
       "      <td>3</td>\n",
       "      <td>38.01</td>\n",
       "      <td>male</td>\n",
       "      <td>yes</td>\n",
       "      <td>47.0</td>\n",
       "      <td>57.0</td>\n",
       "      <td>False</td>\n",
       "    </tr>\n",
       "    <tr>\n",
       "      <th>4</th>\n",
       "      <td>4</td>\n",
       "      <td>22.32</td>\n",
       "      <td>female</td>\n",
       "      <td>yes</td>\n",
       "      <td>5.0</td>\n",
       "      <td>39.0</td>\n",
       "      <td>False</td>\n",
       "    </tr>\n",
       "  </tbody>\n",
       "</table>\n",
       "</div>"
      ],
      "text/plain": [
       "   Unnamed: 0  purch_amt  gender card_on_file   age  days_since_last_purch  \\\n",
       "0           0      19.58    male           no  31.0                   35.0   \n",
       "1           1      65.16    male          yes  23.0                   61.0   \n",
       "2           2      40.60  female           no  36.0                   49.0   \n",
       "3           3      38.01    male          yes  47.0                   57.0   \n",
       "4           4      22.32  female          yes   5.0                   39.0   \n",
       "\n",
       "   loyalty  \n",
       "0    False  \n",
       "1    False  \n",
       "2    False  \n",
       "3    False  \n",
       "4    False  "
      ]
     },
     "execution_count": 196,
     "metadata": {},
     "output_type": "execute_result"
    }
   ],
   "source": [
    "#Make Sense of Data\n",
    "path = '/Users/mac/Dropbox/Thinkful_Coursework/Course/Take_Home/customers_data.csv'\n",
    "df = pd.read_csv(path)\n",
    "df.head()"
   ]
  },
  {
   "cell_type": "code",
   "execution_count": 197,
   "metadata": {},
   "outputs": [
    {
     "name": "stdout",
     "output_type": "stream",
     "text": [
      "Shape of dataframe\n",
      "---------------------------------------------------------------------------------------------\n",
      "No. of Rows: 120000\n",
      "No. of Columns: 7\n",
      "---------------------------------------------------------------------------------------------\n",
      "Column Data Types\n",
      "---------------------------------------------------------------------------------------------\n",
      "Unnamed: 0                 int64\n",
      "purch_amt                float64\n",
      "gender                    object\n",
      "card_on_file              object\n",
      "age                      float64\n",
      "days_since_last_purch    float64\n",
      "loyalty                     bool\n",
      "dtype: object\n",
      "---------------------------------------------------------------------------------------------\n",
      "Missing Data in Dataframe\n",
      "---------------------------------------------------------------------------------------------\n",
      "loyalty                  0\n",
      "days_since_last_purch    0\n",
      "age                      0\n",
      "card_on_file             0\n",
      "gender                   0\n",
      "purch_amt                0\n",
      "Unnamed: 0               0\n",
      "dtype: int64\n",
      "---------------------------------------------------------------------------------------------\n",
      "Column Summary\n",
      "---------------------------------------------------------------------------------------------\n"
     ]
    },
    {
     "data": {
      "text/html": [
       "<div>\n",
       "<style scoped>\n",
       "    .dataframe tbody tr th:only-of-type {\n",
       "        vertical-align: middle;\n",
       "    }\n",
       "\n",
       "    .dataframe tbody tr th {\n",
       "        vertical-align: top;\n",
       "    }\n",
       "\n",
       "    .dataframe thead th {\n",
       "        text-align: right;\n",
       "    }\n",
       "</style>\n",
       "<table border=\"1\" class=\"dataframe\">\n",
       "  <thead>\n",
       "    <tr style=\"text-align: right;\">\n",
       "      <th></th>\n",
       "      <th>count</th>\n",
       "      <th>mean</th>\n",
       "      <th>std</th>\n",
       "      <th>min</th>\n",
       "      <th>25%</th>\n",
       "      <th>50%</th>\n",
       "      <th>75%</th>\n",
       "      <th>max</th>\n",
       "    </tr>\n",
       "  </thead>\n",
       "  <tbody>\n",
       "    <tr>\n",
       "      <th>Unnamed: 0</th>\n",
       "      <td>120000.0</td>\n",
       "      <td>59999.500000</td>\n",
       "      <td>34641.160489</td>\n",
       "      <td>0.00</td>\n",
       "      <td>29999.75</td>\n",
       "      <td>59999.50</td>\n",
       "      <td>89999.25</td>\n",
       "      <td>119999.0</td>\n",
       "    </tr>\n",
       "    <tr>\n",
       "      <th>purch_amt</th>\n",
       "      <td>120000.0</td>\n",
       "      <td>44.036234</td>\n",
       "      <td>20.473148</td>\n",
       "      <td>-43.95</td>\n",
       "      <td>30.21</td>\n",
       "      <td>43.97</td>\n",
       "      <td>57.83</td>\n",
       "      <td>142.2</td>\n",
       "    </tr>\n",
       "    <tr>\n",
       "      <th>age</th>\n",
       "      <td>120000.0</td>\n",
       "      <td>25.803008</td>\n",
       "      <td>10.153072</td>\n",
       "      <td>-22.00</td>\n",
       "      <td>19.00</td>\n",
       "      <td>26.00</td>\n",
       "      <td>33.00</td>\n",
       "      <td>71.0</td>\n",
       "    </tr>\n",
       "    <tr>\n",
       "      <th>days_since_last_purch</th>\n",
       "      <td>120000.0</td>\n",
       "      <td>56.605908</td>\n",
       "      <td>16.422187</td>\n",
       "      <td>-9.00</td>\n",
       "      <td>45.00</td>\n",
       "      <td>57.00</td>\n",
       "      <td>68.00</td>\n",
       "      <td>125.0</td>\n",
       "    </tr>\n",
       "  </tbody>\n",
       "</table>\n",
       "</div>"
      ],
      "text/plain": [
       "                          count          mean           std    min       25%  \\\n",
       "Unnamed: 0             120000.0  59999.500000  34641.160489   0.00  29999.75   \n",
       "purch_amt              120000.0     44.036234     20.473148 -43.95     30.21   \n",
       "age                    120000.0     25.803008     10.153072 -22.00     19.00   \n",
       "days_since_last_purch  120000.0     56.605908     16.422187  -9.00     45.00   \n",
       "\n",
       "                            50%       75%       max  \n",
       "Unnamed: 0             59999.50  89999.25  119999.0  \n",
       "purch_amt                 43.97     57.83     142.2  \n",
       "age                       26.00     33.00      71.0  \n",
       "days_since_last_purch     57.00     68.00     125.0  "
      ]
     },
     "execution_count": 197,
     "metadata": {},
     "output_type": "execute_result"
    }
   ],
   "source": [
    "# Number of rows and columns\n",
    "x = 93\n",
    "print('Shape of dataframe')\n",
    "print('-' *x)\n",
    "print('No. of Rows:', df.shape[0])\n",
    "print('No. of Columns:', df.shape[1])\n",
    "print('-' *x)\n",
    "\n",
    "# Check data types\n",
    "print('Column Data Types')\n",
    "print('-' *x)\n",
    "print(df.dtypes)\n",
    "print('-' *x)\n",
    "\n",
    "# Check for missing data\n",
    "print('Missing Data in Dataframe')\n",
    "print('-' *x)\n",
    "print(df.isnull().sum().sort_values(ascending=False))\n",
    "print('-' *x)\n",
    "\n",
    "# Check for outliers\n",
    "print('Column Summary')\n",
    "print('-' *x)\n",
    "df.describe().transpose()"
   ]
  },
  {
   "cell_type": "markdown",
   "metadata": {},
   "source": [
    "# Data Cleaning"
   ]
  },
  {
   "cell_type": "code",
   "execution_count": 198,
   "metadata": {},
   "outputs": [],
   "source": [
    "# Convert object columns to categorical variables\n",
    "object_cols = df.select_dtypes(['object']).columns.tolist()\n",
    "\n",
    "for cols in object_cols:\n",
    "    df[cols] = df[cols].astype('category')"
   ]
  },
  {
   "cell_type": "code",
   "execution_count": 199,
   "metadata": {},
   "outputs": [
    {
     "name": "stdout",
     "output_type": "stream",
     "text": [
      "Column Data Types\n",
      "---------------------------------------------------------------------------------------------\n",
      "Unnamed: 0                  int64\n",
      "purch_amt                 float64\n",
      "gender                   category\n",
      "card_on_file             category\n",
      "age                       float64\n",
      "days_since_last_purch     float64\n",
      "loyalty                      bool\n",
      "dtype: object\n",
      "---------------------------------------------------------------------------------------------\n"
     ]
    }
   ],
   "source": [
    "# Recheck data types\n",
    "print('Column Data Types')\n",
    "print('-' *x)\n",
    "print(df.dtypes)\n",
    "print('-' *x)"
   ]
  },
  {
   "cell_type": "code",
   "execution_count": 200,
   "metadata": {},
   "outputs": [
    {
     "data": {
      "text/html": [
       "<div>\n",
       "<style scoped>\n",
       "    .dataframe tbody tr th:only-of-type {\n",
       "        vertical-align: middle;\n",
       "    }\n",
       "\n",
       "    .dataframe tbody tr th {\n",
       "        vertical-align: top;\n",
       "    }\n",
       "\n",
       "    .dataframe thead th {\n",
       "        text-align: right;\n",
       "    }\n",
       "</style>\n",
       "<table border=\"1\" class=\"dataframe\">\n",
       "  <thead>\n",
       "    <tr style=\"text-align: right;\">\n",
       "      <th></th>\n",
       "      <th>purch_amt</th>\n",
       "      <th>gender</th>\n",
       "      <th>card_on_file</th>\n",
       "      <th>age</th>\n",
       "      <th>days_since_last_purch</th>\n",
       "      <th>loyalty</th>\n",
       "    </tr>\n",
       "  </thead>\n",
       "  <tbody>\n",
       "    <tr>\n",
       "      <th>0</th>\n",
       "      <td>19.58</td>\n",
       "      <td>male</td>\n",
       "      <td>no</td>\n",
       "      <td>31.0</td>\n",
       "      <td>35.0</td>\n",
       "      <td>False</td>\n",
       "    </tr>\n",
       "    <tr>\n",
       "      <th>1</th>\n",
       "      <td>65.16</td>\n",
       "      <td>male</td>\n",
       "      <td>yes</td>\n",
       "      <td>23.0</td>\n",
       "      <td>61.0</td>\n",
       "      <td>False</td>\n",
       "    </tr>\n",
       "    <tr>\n",
       "      <th>2</th>\n",
       "      <td>40.60</td>\n",
       "      <td>female</td>\n",
       "      <td>no</td>\n",
       "      <td>36.0</td>\n",
       "      <td>49.0</td>\n",
       "      <td>False</td>\n",
       "    </tr>\n",
       "    <tr>\n",
       "      <th>3</th>\n",
       "      <td>38.01</td>\n",
       "      <td>male</td>\n",
       "      <td>yes</td>\n",
       "      <td>47.0</td>\n",
       "      <td>57.0</td>\n",
       "      <td>False</td>\n",
       "    </tr>\n",
       "    <tr>\n",
       "      <th>4</th>\n",
       "      <td>22.32</td>\n",
       "      <td>female</td>\n",
       "      <td>yes</td>\n",
       "      <td>5.0</td>\n",
       "      <td>39.0</td>\n",
       "      <td>False</td>\n",
       "    </tr>\n",
       "  </tbody>\n",
       "</table>\n",
       "</div>"
      ],
      "text/plain": [
       "   purch_amt  gender card_on_file   age  days_since_last_purch  loyalty\n",
       "0      19.58    male           no  31.0                   35.0    False\n",
       "1      65.16    male          yes  23.0                   61.0    False\n",
       "2      40.60  female           no  36.0                   49.0    False\n",
       "3      38.01    male          yes  47.0                   57.0    False\n",
       "4      22.32  female          yes   5.0                   39.0    False"
      ]
     },
     "execution_count": 200,
     "metadata": {},
     "output_type": "execute_result"
    }
   ],
   "source": [
    "#Drop extra index from datafrmame\n",
    "df = df[['purch_amt','gender','card_on_file','age','days_since_last_purch','loyalty']]\n",
    "df.head()"
   ]
  },
  {
   "cell_type": "markdown",
   "metadata": {},
   "source": [
    "# Data Visualization"
   ]
  },
  {
   "cell_type": "markdown",
   "metadata": {},
   "source": [
    "## Numerical Features vs. Loyalty"
   ]
  },
  {
   "cell_type": "code",
   "execution_count": 201,
   "metadata": {},
   "outputs": [
    {
     "data": {
      "image/png": "[encoded data removed]",
      "text/plain": [
       "<matplotlib.figure.Figure at 0x11b306e10>"
      ]
     },
     "metadata": {},
     "output_type": "display_data"
    }
   ],
   "source": [
    "labels = ['False','True']\n",
    "\n",
    "# Suplots of Numerical Features vs Loyalty\n",
    "sns.set_style('whitegrid')\n",
    "f, axes = plt.subplots(1,3, figsize = (16,6))\n",
    "\n",
    "# Plot Purchase Amount vs. Loyalty\n",
    "sns.boxplot(data = df, x = 'loyalty', y = 'purch_amt', palette ='rainbow', ax = axes[0])\n",
    "axes[0].set_xlabel('', fontsize=14)\n",
    "axes[0].set_xticklabels(labels, fontsize=14)\n",
    "axes[0].set_ylabel('', fontsize=14)\n",
    "axes[0].set_title('Purchase Amt. vs. Loyalty', fontsize=16)\n",
    "\n",
    "# Plot Age vs. Loyalty\n",
    "sns.boxplot(x = 'loyalty', y = 'age', data = df, palette ='rainbow', ax = axes[1])\n",
    "axes[1].set_xlabel('', fontsize=14)\n",
    "axes[1].set_xticklabels(labels, fontsize=14)\n",
    "axes[1].set_ylabel('',fontsize=14)\n",
    "axes[1].set_title('Age vs. Loyalty',fontsize=16)\n",
    "\n",
    "# Plot Days Since Last Purchase vs. Loyalty\n",
    "sns.boxplot(x = 'loyalty', y = 'days_since_last_purch', data = df, palette = 'rainbow', ax = axes[2])\n",
    "axes[2].set_xlabel('', fontsize=14)\n",
    "axes[2].set_xticklabels(labels, fontsize=14)\n",
    "axes[2].set_ylabel('',fontsize=14)\n",
    "axes[2].set_title('Days Since Last Purchase vs. Loyalty',fontsize=16)\n",
    "\n",
    "plt.show()"
   ]
  },
  {
   "cell_type": "markdown",
   "metadata": {},
   "source": [
    "## Numerical Features vs. Gender"
   ]
  },
  {
   "cell_type": "code",
   "execution_count": 202,
   "metadata": {
    "scrolled": true
   },
   "outputs": [
    {
     "data": {
      "image/png": "[encoded data removed]",
      "text/plain": [
       "<matplotlib.figure.Figure at 0x11e76f978>"
      ]
     },
     "metadata": {},
     "output_type": "display_data"
    }
   ],
   "source": [
    "labels = ['Female','Male']\n",
    "\n",
    "# Suplots of Numerical Features vs Gender\n",
    "sns.set_style('whitegrid')\n",
    "f, axes = plt.subplots(1,3, figsize = (16,6))\n",
    "\n",
    "# Plot Purchase Amount vs. Gender\n",
    "sns.boxplot(data = df, x = 'gender', y = 'purch_amt', palette ='rainbow', ax = axes[0])\n",
    "axes[0].set_xlabel('', fontsize=14)\n",
    "axes[0].set_xticklabels(labels, fontsize=14)\n",
    "axes[0].set_ylabel('', fontsize=14)\n",
    "axes[0].set_title('Purchase Amt. vs. Gender', fontsize=16)\n",
    "\n",
    "# Plot Age vs. Gender\n",
    "sns.boxplot(x = 'gender', y = 'age', data = df, palette ='rainbow', ax = axes[1])\n",
    "axes[1].set_xlabel('', fontsize=14)\n",
    "axes[1].set_xticklabels(labels, fontsize=14)\n",
    "axes[1].set_ylabel('',fontsize=14)\n",
    "axes[1].set_title('Age vs. Gender',fontsize=16)\n",
    "\n",
    "# Plot Days Since Last Purchase vs. Gender\n",
    "sns.boxplot(x = 'gender', y = 'days_since_last_purch', data = df, palette = 'rainbow', ax = axes[2])\n",
    "axes[2].set_xlabel('', fontsize=14)\n",
    "axes[2].set_xticklabels(labels, fontsize=14)\n",
    "axes[2].set_ylabel('',fontsize=14)\n",
    "axes[2].set_title('Days Since Last Purchase vs. Gender',fontsize=16)\n",
    "\n",
    "plt.show()"
   ]
  },
  {
   "cell_type": "markdown",
   "metadata": {},
   "source": [
    "# Feature Engineering"
   ]
  },
  {
   "cell_type": "markdown",
   "metadata": {},
   "source": [
    "## Modify Data Types"
   ]
  },
  {
   "cell_type": "code",
   "execution_count": 203,
   "metadata": {},
   "outputs": [
    {
     "data": {
      "text/html": [
       "<div>\n",
       "<style scoped>\n",
       "    .dataframe tbody tr th:only-of-type {\n",
       "        vertical-align: middle;\n",
       "    }\n",
       "\n",
       "    .dataframe tbody tr th {\n",
       "        vertical-align: top;\n",
       "    }\n",
       "\n",
       "    .dataframe thead th {\n",
       "        text-align: right;\n",
       "    }\n",
       "</style>\n",
       "<table border=\"1\" class=\"dataframe\">\n",
       "  <thead>\n",
       "    <tr style=\"text-align: right;\">\n",
       "      <th></th>\n",
       "      <th>purch_amt</th>\n",
       "      <th>gender</th>\n",
       "      <th>card_on_file</th>\n",
       "      <th>age</th>\n",
       "      <th>days_since_last_purch</th>\n",
       "      <th>loyalty</th>\n",
       "    </tr>\n",
       "  </thead>\n",
       "  <tbody>\n",
       "    <tr>\n",
       "      <th>0</th>\n",
       "      <td>19.58</td>\n",
       "      <td>1</td>\n",
       "      <td>0</td>\n",
       "      <td>31.0</td>\n",
       "      <td>35.0</td>\n",
       "      <td>0</td>\n",
       "    </tr>\n",
       "    <tr>\n",
       "      <th>1</th>\n",
       "      <td>65.16</td>\n",
       "      <td>1</td>\n",
       "      <td>1</td>\n",
       "      <td>23.0</td>\n",
       "      <td>61.0</td>\n",
       "      <td>0</td>\n",
       "    </tr>\n",
       "    <tr>\n",
       "      <th>2</th>\n",
       "      <td>40.60</td>\n",
       "      <td>0</td>\n",
       "      <td>0</td>\n",
       "      <td>36.0</td>\n",
       "      <td>49.0</td>\n",
       "      <td>0</td>\n",
       "    </tr>\n",
       "    <tr>\n",
       "      <th>3</th>\n",
       "      <td>38.01</td>\n",
       "      <td>1</td>\n",
       "      <td>1</td>\n",
       "      <td>47.0</td>\n",
       "      <td>57.0</td>\n",
       "      <td>0</td>\n",
       "    </tr>\n",
       "    <tr>\n",
       "      <th>4</th>\n",
       "      <td>22.32</td>\n",
       "      <td>0</td>\n",
       "      <td>1</td>\n",
       "      <td>5.0</td>\n",
       "      <td>39.0</td>\n",
       "      <td>0</td>\n",
       "    </tr>\n",
       "  </tbody>\n",
       "</table>\n",
       "</div>"
      ],
      "text/plain": [
       "   purch_amt  gender  card_on_file   age  days_since_last_purch  loyalty\n",
       "0      19.58       1             0  31.0                   35.0        0\n",
       "1      65.16       1             1  23.0                   61.0        0\n",
       "2      40.60       0             0  36.0                   49.0        0\n",
       "3      38.01       1             1  47.0                   57.0        0\n",
       "4      22.32       0             1   5.0                   39.0        0"
      ]
     },
     "execution_count": 203,
     "metadata": {},
     "output_type": "execute_result"
    }
   ],
   "source": [
    "from sklearn.preprocessing import LabelEncoder\n",
    "\n",
    "#Encode categorical features to prepare model\n",
    "df_encode = df.copy()\n",
    "lb_make = LabelEncoder()\n",
    "\n",
    "df_encode['gender'] = lb_make.fit_transform(df['gender'])\n",
    "df_encode['card_on_file'] = lb_make.fit_transform(df['card_on_file'])\n",
    "df_encode['loyalty'] = lb_make.fit_transform(df['loyalty'])\n",
    "\n",
    "df_encode.head()"
   ]
  },
  {
   "cell_type": "markdown",
   "metadata": {},
   "source": [
    "## Review Feature Correlation"
   ]
  },
  {
   "cell_type": "code",
   "execution_count": 204,
   "metadata": {},
   "outputs": [
    {
     "data": {
      "image/png": "[encoded data removed]",
      "text/plain": [
       "<matplotlib.figure.Figure at 0x117956be0>"
      ]
     },
     "metadata": {},
     "output_type": "display_data"
    }
   ],
   "source": [
    "#Create correlation plot\n",
    "plt.figure(figsize=(16,5))\n",
    "\n",
    "corr = df_encode.corr()\n",
    "sns.heatmap(corr, cmap='coolwarm', annot= True, annot_kws={\"size\": 12})\n",
    "plt.title('Loyalty Label Correlation', fontsize=16)\n",
    "plt.xticks(fontsize=12)\n",
    "plt.yticks(fontsize=12)\n",
    "\n",
    "plt.show()"
   ]
  },
  {
   "cell_type": "markdown",
   "metadata": {},
   "source": [
    "## Scale Numeric Features"
   ]
  },
  {
   "cell_type": "code",
   "execution_count": 205,
   "metadata": {},
   "outputs": [
    {
     "data": {
      "text/html": [
       "<div>\n",
       "<style scoped>\n",
       "    .dataframe tbody tr th:only-of-type {\n",
       "        vertical-align: middle;\n",
       "    }\n",
       "\n",
       "    .dataframe tbody tr th {\n",
       "        vertical-align: top;\n",
       "    }\n",
       "\n",
       "    .dataframe thead th {\n",
       "        text-align: right;\n",
       "    }\n",
       "</style>\n",
       "<table border=\"1\" class=\"dataframe\">\n",
       "  <thead>\n",
       "    <tr style=\"text-align: right;\">\n",
       "      <th></th>\n",
       "      <th>gender</th>\n",
       "      <th>card_on_file</th>\n",
       "      <th>loyalty</th>\n",
       "      <th>scaled_purch_amt</th>\n",
       "      <th>scaled_age</th>\n",
       "      <th>scaled_days_last_purch</th>\n",
       "    </tr>\n",
       "  </thead>\n",
       "  <tbody>\n",
       "    <tr>\n",
       "      <th>0</th>\n",
       "      <td>1</td>\n",
       "      <td>0</td>\n",
       "      <td>0</td>\n",
       "      <td>-0.883056</td>\n",
       "      <td>0.357143</td>\n",
       "      <td>-0.956522</td>\n",
       "    </tr>\n",
       "    <tr>\n",
       "      <th>1</th>\n",
       "      <td>1</td>\n",
       "      <td>1</td>\n",
       "      <td>0</td>\n",
       "      <td>0.767198</td>\n",
       "      <td>-0.214286</td>\n",
       "      <td>0.173913</td>\n",
       "    </tr>\n",
       "    <tr>\n",
       "      <th>2</th>\n",
       "      <td>0</td>\n",
       "      <td>0</td>\n",
       "      <td>0</td>\n",
       "      <td>-0.122013</td>\n",
       "      <td>0.714286</td>\n",
       "      <td>-0.347826</td>\n",
       "    </tr>\n",
       "    <tr>\n",
       "      <th>3</th>\n",
       "      <td>1</td>\n",
       "      <td>1</td>\n",
       "      <td>0</td>\n",
       "      <td>-0.215786</td>\n",
       "      <td>1.500000</td>\n",
       "      <td>0.000000</td>\n",
       "    </tr>\n",
       "    <tr>\n",
       "      <th>4</th>\n",
       "      <td>0</td>\n",
       "      <td>1</td>\n",
       "      <td>0</td>\n",
       "      <td>-0.783852</td>\n",
       "      <td>-1.500000</td>\n",
       "      <td>-0.782609</td>\n",
       "    </tr>\n",
       "  </tbody>\n",
       "</table>\n",
       "</div>"
      ],
      "text/plain": [
       "   gender  card_on_file  loyalty  scaled_purch_amt  scaled_age  \\\n",
       "0       1             0        0         -0.883056    0.357143   \n",
       "1       1             1        0          0.767198   -0.214286   \n",
       "2       0             0        0         -0.122013    0.714286   \n",
       "3       1             1        0         -0.215786    1.500000   \n",
       "4       0             1        0         -0.783852   -1.500000   \n",
       "\n",
       "   scaled_days_last_purch  \n",
       "0               -0.956522  \n",
       "1                0.173913  \n",
       "2               -0.347826  \n",
       "3                0.000000  \n",
       "4               -0.782609  "
      ]
     },
     "execution_count": 205,
     "metadata": {},
     "output_type": "execute_result"
    }
   ],
   "source": [
    "from sklearn.preprocessing import RobustScaler\n",
    "\n",
    "rob_scaler = RobustScaler()\n",
    "\n",
    "df_encode['scaled_purch_amt'] = rob_scaler.fit_transform(df_encode['purch_amt'].values.reshape(-1,1))\n",
    "df_encode['scaled_age'] = rob_scaler.fit_transform(df_encode['age'].values.reshape(-1,1))\n",
    "df_encode['scaled_days_last_purch'] = rob_scaler.fit_transform(df_encode['days_since_last_purch'].values.reshape(-1,1))\n",
    "\n",
    "#Drop Original Features\n",
    "df_encode.drop(['purch_amt','age', 'days_since_last_purch'], axis=1, inplace=True)\n",
    "\n",
    "df_encode.head()"
   ]
  },
  {
   "cell_type": "markdown",
   "metadata": {},
   "source": [
    "# Model Prep"
   ]
  },
  {
   "cell_type": "markdown",
   "metadata": {},
   "source": [
    "## Check Balance of Outcome Label"
   ]
  },
  {
   "cell_type": "code",
   "execution_count": 206,
   "metadata": {},
   "outputs": [
    {
     "name": "stdout",
     "output_type": "stream",
     "text": [
      "-------------------------------------------------------------------------------------------------------------------\n",
      "False is 83.3 % of the dataset\n",
      "True is 16.7 % of the dataset\n",
      "-------------------------------------------------------------------------------------------------------------------\n",
      "No. of False rows is  100000\n",
      "No. of True rows is  20000\n",
      "-------------------------------------------------------------------------------------------------------------------\n"
     ]
    }
   ],
   "source": [
    "x=115\n",
    "print('-' *x)\n",
    "print('False is', round(df_encode['loyalty'].value_counts()[0]/len(df_encode) * 100,1), '% of the dataset')\n",
    "print('True is', round(df_encode['loyalty'].value_counts()[1]/len(df_encode) * 100,1), '% of the dataset')\n",
    "print('-' *x)\n",
    "print('No. of False rows is ', round(df_encode['loyalty'].value_counts()[0]))\n",
    "print('No. of True rows is ', round(df_encode['loyalty'].value_counts()[1]))\n",
    "print('-' *x)"
   ]
  },
  {
   "cell_type": "markdown",
   "metadata": {},
   "source": [
    "## Oversample Minority Class"
   ]
  },
  {
   "cell_type": "code",
   "execution_count": 207,
   "metadata": {},
   "outputs": [
    {
     "data": {
      "text/plain": [
       "True     100000\n",
       "False    100000\n",
       "Name: 0, dtype: int64"
      ]
     },
     "execution_count": 207,
     "metadata": {},
     "output_type": "execute_result"
    }
   ],
   "source": [
    "X = df_encode.drop('loyalty', axis=1)\n",
    "y = df['loyalty']\n",
    "\n",
    "#Use Oversample to manage unbalanced dataset\n",
    "sm = SMOTE(random_state=42)\n",
    "X_res, y_res = sm.fit_sample(X, y)\n",
    "\n",
    "#Create balanced dataframe\n",
    "balanced_df = pd.DataFrame(X_res)\n",
    "balanced_df['Class'] = y_res\n",
    "\n",
    "#Check to see if classes are now balanced\n",
    "pd.DataFrame(y_res)[0].value_counts()"
   ]
  },
  {
   "cell_type": "markdown",
   "metadata": {},
   "source": [
    "## Split Training and Test Data Sets"
   ]
  },
  {
   "cell_type": "code",
   "execution_count": 208,
   "metadata": {},
   "outputs": [],
   "source": [
    "#Split Training and Test Sets\n",
    "from sklearn.model_selection import train_test_split\n",
    "X_train, X_test, y_train, y_test = train_test_split(X_res, y_res, test_size=0.2, random_state=42)"
   ]
  },
  {
   "cell_type": "markdown",
   "metadata": {},
   "source": [
    "# Run Models"
   ]
  },
  {
   "cell_type": "markdown",
   "metadata": {},
   "source": [
    "## Baseline Model"
   ]
  },
  {
   "cell_type": "code",
   "execution_count": 217,
   "metadata": {},
   "outputs": [
    {
     "name": "stdout",
     "output_type": "stream",
     "text": [
      "Logistic Regression: 79.77 %\n"
     ]
    },
    {
     "data": {
      "text/plain": [
       "array([[15706,  4194],\n",
       "       [ 3899, 16201]])"
      ]
     },
     "execution_count": 217,
     "metadata": {},
     "output_type": "execute_result"
    }
   ],
   "source": [
    "#Fit Logistic Regression Model\n",
    "lr = LogisticRegression()\n",
    "lr.fit(X_train, y_train)\n",
    "\n",
    "#Determine Logisitic Regression Score\n",
    "print('Logistic Regression:', round(lr.score(X_test, y_test) * 100,2),'%')\n",
    "\n",
    "#Create Logsitic Regression Confusion Matrix\n",
    "y_pred = lr.predict(X_test)\n",
    "confusion_matrix(y_test, y_pred)"
   ]
  },
  {
   "cell_type": "markdown",
   "metadata": {},
   "source": [
    "## Other Classifier Models"
   ]
  },
  {
   "cell_type": "code",
   "execution_count": 218,
   "metadata": {
    "scrolled": true
   },
   "outputs": [
    {
     "name": "stdout",
     "output_type": "stream",
     "text": [
      "1.) Random Forest: 89.18 %\n",
      "2.) Gradient Boosting: 82.64 %\n",
      "3.) Decision Tree: 87.43 %\n",
      "4.) KNeighbors: 84.91 %\n",
      "5.) Ridge: 79.83 %\n",
      "6.) XGBoost: 84.09 %\n"
     ]
    }
   ],
   "source": [
    "#Define Classifier Models\n",
    "rf = RandomForestClassifier()\n",
    "gb = GradientBoostingClassifier()\n",
    "dtc = DecisionTreeClassifier()\n",
    "knn = KNeighborsClassifier()\n",
    "rig = RidgeClassifier() \n",
    "clf = xgb.XGBClassifier(max_depth=3, n_estimators=300, learning_rate=0.05)\n",
    "\n",
    "#Fit Classifier Models\n",
    "rf.fit(X_train, y_train)\n",
    "gb.fit(X_train, y_train)\n",
    "dtc.fit(X_train, y_train)\n",
    "knn.fit(X_train, y_train)\n",
    "rig.fit(X_train, y_train)\n",
    "clf.fit(X_train, y_train)\n",
    "\n",
    "#Get Classifier Accuracies\n",
    "print('1.) Random Forest:', round(rf.score(X_test, y_test) * 100,2),'%')\n",
    "print('2.) Gradient Boosting:', round(gb.score(X_test, y_test) * 100,2),'%')\n",
    "print('3.) Decision Tree:', round(dtc.score(X_test, y_test) * 100,2),'%')\n",
    "print('4.) KNeighbors:', round(knn.score(X_test, y_test) * 100,2),'%')\n",
    "print('5.) Ridge:', round(rig.score(X_test,y_test) *100,2),'%')\n",
    "print('6.) XGBoost:', round(clf.score(X_test,y_test) *100,2),'%')"
   ]
  },
  {
   "cell_type": "markdown",
   "metadata": {},
   "source": [
    "## Ensemble Model"
   ]
  },
  {
   "cell_type": "code",
   "execution_count": 220,
   "metadata": {},
   "outputs": [
    {
     "name": "stdout",
     "output_type": "stream",
     "text": [
      "Voting Classifer:  87.83 %\n"
     ]
    }
   ],
   "source": [
    "#Setup Voting Classifer with Top 5 Models\n",
    "vc = VotingClassifier(estimators=[('rf', rf), ('gb', gb),('dtc',dtc) ,('knn',knn),('clf', clf)], voting='hard')\n",
    "vc.fit(X_train, y_train)\n",
    "print('Voting Classifer: ', round(vc.score(X_test,y_test) *100,2),'%')"
   ]
  },
  {
   "cell_type": "markdown",
   "metadata": {},
   "source": [
    "# Model Evaluation"
   ]
  },
  {
   "cell_type": "markdown",
   "metadata": {},
   "source": [
    "## Confusion Matrix"
   ]
  },
  {
   "cell_type": "code",
   "execution_count": 228,
   "metadata": {},
   "outputs": [
    {
     "data": {
      "image/png": "[encoded data removed]",
      "text/plain": [
       "<matplotlib.figure.Figure at 0x11745b898>"
      ]
     },
     "metadata": {},
     "output_type": "display_data"
    }
   ],
   "source": [
    "#Get y_pred top model and ensemble model\n",
    "y_pred_rf = rf.predict(X_test)\n",
    "y_pred_vc = vc.predict(X_test)\n",
    "\n",
    "#Get confusion matrix top model and ensemble model\n",
    "cm_rf = confusion_matrix(y_test, y_pred_rf)\n",
    "cm_vc = confusion_matrix(y_test, y_pred_vc)\n",
    "\n",
    "#Setup Confusion Matrix Plots\n",
    "fig, ax = plt.subplots(1, 2,figsize=(16,6))\n",
    "\n",
    "#Random Forest Confusion Matrix\n",
    "sns.heatmap(cm_rf, ax=ax[0], annot=True, annot_kws={\"size\": 12}, cmap=plt.cm.Blues)\n",
    "ax[0].set_title(\"Random Forest\", fontsize=14)\n",
    "ax[0].set_xticklabels(['Non-Loyalty', 'Loyalty'], fontsize=12)\n",
    "ax[0].set_yticklabels(['Non-Loyalty', 'Loyalty'], fontsize=12, rotation=360)\n",
    "ax[0].set_xlabel('Predicted label', fontsize=12)\n",
    "ax[0].set_ylabel('True label', fontsize=12)\n",
    "\n",
    "#Voting Classifer Model Confusion Matrix\n",
    "sns.heatmap(cm_vc , ax=ax[1], annot=True, annot_kws={\"size\": 12}, cmap=plt.cm.Blues)\n",
    "ax[1].set_title(\"Voting Classifer\", fontsize=14)\n",
    "ax[1].set_xticklabels(['Non-Loyalty', 'Loyalty'], fontsize=12, rotation=360)\n",
    "ax[1].set_xlabel('Predicted label', fontsize=12)\n",
    "ax[1].set_yticklabels(['', ''], fontsize=12, rotation=360)\n",
    "\n",
    "plt.show()"
   ]
  },
  {
   "cell_type": "markdown",
   "metadata": {},
   "source": [
    "## Classification Reports"
   ]
  },
  {
   "cell_type": "code",
   "execution_count": 229,
   "metadata": {},
   "outputs": [
    {
     "name": "stdout",
     "output_type": "stream",
     "text": [
      "\n",
      "Classification Report: Random Forrest\n",
      "              precision    recall  f1-score   support\n",
      "\n",
      "      False       0.89      0.90      0.89     19900\n",
      "       True       0.90      0.88      0.89     20100\n",
      "\n",
      "avg / total       0.89      0.89      0.89     40000\n",
      "\n",
      "________________________________________________________\n",
      "\n",
      "Classification Report: Voting Classifer\n",
      "              precision    recall  f1-score   support\n",
      "\n",
      "      False       0.91      0.84      0.87     19900\n",
      "       True       0.85      0.92      0.88     20100\n",
      "\n",
      "avg / total       0.88      0.88      0.88     40000\n",
      "\n",
      "________________________________________________________\n"
     ]
    }
   ],
   "source": [
    "print ('\\nClassification Report: Random Forrest\\n', classification_report(y_test, y_pred_rf))\n",
    "print('__' *28)\n",
    "print ('\\nClassification Report: Voting Classifer\\n', classification_report(y_test, y_pred_vc))\n",
    "print('__' *28)"
   ]
  },
  {
   "cell_type": "markdown",
   "metadata": {},
   "source": [
    "## Cross Validation"
   ]
  },
  {
   "cell_type": "code",
   "execution_count": 242,
   "metadata": {},
   "outputs": [
    {
     "name": "stdout",
     "output_type": "stream",
     "text": [
      "Random Forest:\n",
      " [0.83845808 0.83980801 0.83230838 0.83485826 0.83933393 0.8420342 ]\n",
      "____________________________________________________________________\n",
      "Voting Classifier:\n",
      " [0.84775761 0.84985751 0.84760762 0.84655767 0.85523552 0.84428443]\n"
     ]
    }
   ],
   "source": [
    "from sklearn.model_selection import cross_val_score\n",
    "print('Random Forest:\\n', cross_val_score(rf, X_test, y_test, cv=6))\n",
    "print('__' *34)\n",
    "print('Voting Classifier:\\n', cross_val_score(vc, X_test, y_test, cv=6))"
   ]
  },
  {
   "cell_type": "markdown",
   "metadata": {},
   "source": [
    "# Optimize Model Performance: Random Forest"
   ]
  },
  {
   "cell_type": "code",
   "execution_count": 245,
   "metadata": {},
   "outputs": [
    {
     "name": "stdout",
     "output_type": "stream",
     "text": [
      "{'max_depth': 30, 'min_samples_leaf': 1, 'n_estimators': 54}\n"
     ]
    }
   ],
   "source": [
    "from sklearn.grid_search import GridSearchCV\n",
    " \n",
    "rf = RandomForestClassifier(n_jobs=-1, max_features='sqrt', oob_score = True) \n",
    " \n",
    "# Use a grid over parameters of interest\n",
    "param_grid = { \n",
    "           \"n_estimators\" : [9, 27, 54,],\n",
    "           \"max_depth\" : [1, 10, 20, 30],\n",
    "           \"min_samples_leaf\" : [1, 4, 8]}\n",
    " \n",
    "cv_rf = GridSearchCV(estimator=rf, param_grid=param_grid, cv= 5)\n",
    "cv_rf.fit(X_train, y_train)\n",
    "print (cv_rf.best_params_)"
   ]
  },
  {
   "cell_type": "code",
   "execution_count": 249,
   "metadata": {},
   "outputs": [
    {
     "name": "stdout",
     "output_type": "stream",
     "text": [
      "Random Forest: 90.02 %\n"
     ]
    }
   ],
   "source": [
    "# Optimized RF classifier\n",
    "rf = RandomForestClassifier(n_estimators=54, max_depth=30, max_features='sqrt', min_samples_leaf = 1)\n",
    "\n",
    "#Fit Classifier Models\n",
    "rf.fit(X_train, y_train)\n",
    "\n",
    "#Get Classifier Accuracies\n",
    "print('Random Forest:', round(rf.score(X_test, y_test) * 100,2),'%')"
   ]
  },
  {
   "cell_type": "code",
   "execution_count": 250,
   "metadata": {},
   "outputs": [
    {
     "name": "stdout",
     "output_type": "stream",
     "text": [
      "Random Forest:\n",
      " [0.84955752 0.85570721 0.85420729 0.84730763 0.86168617 0.85508551]\n"
     ]
    }
   ],
   "source": [
    "from sklearn.model_selection import cross_val_score\n",
    "print('Random Forest:\\n', cross_val_score(rf, X_test, y_test, cv=6))"
   ]
  },
  {
   "cell_type": "code",
   "execution_count": null,
   "metadata": {},
   "outputs": [],
   "source": []
  }
 ],
 "metadata": {
  "kernelspec": {
   "display_name": "Python 3",
   "language": "python",
   "name": "python3"
  },
  "language_info": {
   "codemirror_mode": {
    "name": "ipython",
    "version": 3
   },
   "file_extension": ".py",
   "mimetype": "text/x-python",
   "name": "python",
   "nbconvert_exporter": "python",
   "pygments_lexer": "ipython3",
   "version": "3.6.5"
  }
 },
 "nbformat": 4,
 "nbformat_minor": 2
}
